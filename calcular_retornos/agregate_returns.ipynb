{
 "cells": [
  {
   "cell_type": "code",
   "execution_count": null,
   "metadata": {},
   "outputs": [],
   "source": [
    "# load packages\n",
    "import pandas as pd\n",
    "import numpy as np\n",
    "import pandas_datareader as pdr\n",
    "import seaborn as sns\n",
    "from matplotlib import pyplot as plt\n",
    "# not needed, only to prettify the plots.\n",
    "import matplotlib\n",
    "from IPython.display import set_matplotlib_formats\n",
    "%matplotlib inline"
   ]
  },
  {
   "cell_type": "code",
   "execution_count": null,
   "metadata": {},
   "outputs": [],
   "source": [
    "from pandas_datareader import data as pdr\n",
    "\n",
    "import fix_yahoo_finance as yf\n",
    "yf.pdr_override() # <== that's all it takes :-)"
   ]
  },
  {
   "cell_type": "code",
   "execution_count": null,
   "metadata": {},
   "outputs": [],
   "source": [
    "# prettify the figures\n",
    "plt.style.use(['seaborn-white', 'seaborn-paper'])\n",
    "matplotlib.rc('font', family='Times New Roman', size=15)\n",
    "# set_matplotlib_formats('png', 'png', quality=90)\n",
    "plt.rcParams['savefig.dpi'] = 150\n",
    "plt.rcParams['figure.autolayout'] = False\n",
    "plt.rcParams['figure.figsize'] = 8, 5\n",
    "plt.rcParams['axes.labelsize'] = 10\n",
    "plt.rcParams['axes.titlesize'] = 15\n",
    "plt.rcParams['font.size'] = 12\n",
    "plt.rcParams['lines.linewidth'] = 1.0\n",
    "plt.rcParams['lines.markersize'] = 8\n",
    "plt.rcParams['legend.fontsize'] = 12\n",
    "plt.rcParams['ytick.labelsize'] = 11\n",
    "plt.rcParams['xtick.labelsize'] = 11\n",
    "plt.rcParams['font.family'] = 'Times New Roman'\n",
    "plt.rcParams['font.serif'] = 'cm'\n",
    "plt.rcParams['axes.grid'] = True\n",
    "\n",
    "kw_save = dict(bbox_iches='tight', transparent=True)"
   ]
  },
  {
   "cell_type": "code",
   "execution_count": null,
   "metadata": {},
   "outputs": [],
   "source": [
    "# asset information\n",
    "asset_info = '''\n",
    "Banco do Brasil S.A. (BBAS3.SA)\n",
    "Sao Paolo - Sao Paolo Delayed Price. Currency in BRL.\n",
    "Source: https://finance.yahoo.com/quote/BBAS3.SA\n",
    "'''"
   ]
  },
  {
   "cell_type": "code",
   "execution_count": null,
   "metadata": {},
   "outputs": [],
   "source": [
    "# useful functions\n",
    "# ================\n",
    "def total_return(prices):\n",
    "    \"\"\"Retuns the return between the first and last value of the DataFrame.\n",
    "\n",
    "    Parameters\n",
    "    ----------\n",
    "    prices : pandas.Series or pandas.DataFrame\n",
    "\n",
    "    Returns\n",
    "    -------\n",
    "    total_return : float or pandas.Series\n",
    "        Depending on the input passed returns a float or a pandas.Series.\n",
    "    \"\"\"\n",
    "    return prices.iloc[-1] / prices.iloc[0] - 1\n",
    "\n",
    "\n",
    "def total_return_from_returns(returns):\n",
    "    \"\"\"Retuns the return between the first and last value of the DataFrame.\n",
    "\n",
    "    Parameters\n",
    "    ----------\n",
    "    returns : pandas.Series or pandas.DataFrame\n",
    "\n",
    "    Returns\n",
    "    -------\n",
    "    total_return : float or pandas.Series\n",
    "        Depending on the input passed returns a float or a pandas.Series.\n",
    "    \"\"\"\n",
    "    return (returns + 1).prod() - 1\n",
    "\n",
    "\n",
    "def plot_this(df, title, figsize=None, ylabel='', bottom_adj=0.25,\n",
    "             txt_ymin=-0.4, bar=False):\n",
    "    if bar:\n",
    "        ax = df.plot.bar(title=title, figsize=figsize)\n",
    "    else:\n",
    "        ax = df.plot(title=title, figsize=figsize)\n",
    "    sns.despine()\n",
    "    plt.ylabel(ylabel)\n",
    "    plt.tight_layout()\n",
    "    plt.text(0, txt_ymin, asset_info, transform=ax.transAxes, fontsize=9)\n",
    "    plt.gcf().subplots_adjust(bottom=bottom_adj)"
   ]
  },
  {
   "cell_type": "code",
   "execution_count": null,
   "metadata": {},
   "outputs": [],
   "source": [
    "# Geting data\n",
    "# ===========\n",
    "today = '2017-09-26'  # to make static this script.\n",
    "tckr = 'BBAS3.SA'  # Banco do Brasil SA\n",
    "# download data\n",
    "data = pdr.get_data_yahoo(tckr, \"2014-01-01\", today)\n",
    "# add frequency needed for some pandas functionalities releated with offsets\n",
    "data = data.asfreq('B')  \n",
    "data.columns = data.columns.map(lambda col: col.lower())"
   ]
  },
  {
   "cell_type": "code",
   "execution_count": null,
   "metadata": {},
   "outputs": [],
   "source": [
    "data.head()  # first values"
   ]
  },
  {
   "cell_type": "code",
   "execution_count": null,
   "metadata": {},
   "outputs": [],
   "source": [
    "data.tail()  # last values"
   ]
  },
  {
   "cell_type": "code",
   "execution_count": null,
   "metadata": {},
   "outputs": [],
   "source": [
    "# what about NaNs\n",
    "data.isnull().sum()"
   ]
  },
  {
   "cell_type": "code",
   "execution_count": null,
   "metadata": {},
   "outputs": [],
   "source": [
    "data.ffill(inplace=True)  # to avoid problems with NaNs."
   ]
  },
  {
   "cell_type": "code",
   "execution_count": null,
   "metadata": {},
   "outputs": [],
   "source": [
    "# using close prices\n",
    "prices = data.close.copy()\n",
    "# we convert to DataFrame to make easy store more series.\n",
    "results_storage = prices.to_frame().copy()\n",
    "# plotting\n",
    "plot_this(prices, title='Prices of %s' % tckr, ylabel='Prices in BRL',\n",
    "          txt_ymin=-0.2, bottom_adj=0.15)"
   ]
  },
  {
   "cell_type": "code",
   "execution_count": null,
   "metadata": {},
   "outputs": [],
   "source": [
    "# extract some date information\n",
    "results_storage['year'] = prices.index.year\n",
    "results_storage['month'] = prices.index.month\n",
    "results_storage['day'] = prices.index.day\n",
    "results_storage['week_day'] = prices.index.dayofweek\n",
    "results_storage['week_day_name'] = prices.index.strftime('%A')\n",
    "results_storage.tail(10)"
   ]
  },
  {
   "cell_type": "markdown",
   "metadata": {},
   "source": [
    "# Trailing Returns"
   ]
  },
  {
   "cell_type": "markdown",
   "metadata": {},
   "source": [
    "# Approach 1: starting from prices"
   ]
  },
  {
   "cell_type": "code",
   "execution_count": null,
   "metadata": {},
   "outputs": [],
   "source": [
    "approach1 = results_storage.groupby(['year', 'month'], )['close'].apply(total_return)\n",
    "approach1.tail(12)"
   ]
  },
  {
   "cell_type": "code",
   "execution_count": null,
   "metadata": {},
   "outputs": [],
   "source": [
    "# ploting\n",
    "# -------\n",
    "plot_this(approach1, bar=True, title='Trailing returns: Approach 1',\n",
    "          ylabel='Returns (parts per unit)', txt_ymin=-0.4, bottom_adj=0.25)"
   ]
  },
  {
   "cell_type": "markdown",
   "metadata": {
    "collapsed": true
   },
   "source": [
    "> __Nota bene, What means approach 1:__\n",
    "Means that we are selecting all available prices INSIDE a month and then we calculate the total return with that prices."
   ]
  },
  {
   "cell_type": "code",
   "execution_count": null,
   "metadata": {},
   "outputs": [],
   "source": [
    "select_idx = (2017, 7)\n",
    "idx_approach1 = results_storage.groupby(['year', 'month'])['close'].groups[select_idx]\n",
    "last_group = results_storage.loc[idx_approach1]\n",
    "last_group.head()\n",
    "last_group.tail()"
   ]
  },
  {
   "cell_type": "code",
   "execution_count": null,
   "metadata": {},
   "outputs": [],
   "source": [
    "# example of the calculation\n",
    "total_return(last_group.close), approach1.loc[select_idx]"
   ]
  },
  {
   "cell_type": "markdown",
   "metadata": {},
   "source": [
    "# Approach 2: starting from daily returns"
   ]
  },
  {
   "cell_type": "code",
   "execution_count": null,
   "metadata": {},
   "outputs": [],
   "source": [
    "r = prices.pct_change()\n",
    "approach2 = r.groupby((r.index.year, r.index.month))\\\n",
    "             .apply(total_return_from_returns)\n",
    "\n",
    "approach2.tail(12)"
   ]
  },
  {
   "cell_type": "code",
   "execution_count": null,
   "metadata": {},
   "outputs": [],
   "source": [
    "plot_this(approach2, bar=True, title='Trailing returns: Approach 2',\n",
    "          ylabel='Returns (parts per unit)', txt_ymin=-0.4, bottom_adj=0.25)"
   ]
  },
  {
   "cell_type": "markdown",
   "metadata": {
    "collapsed": true
   },
   "source": [
    "However, this approximation is almost correct since we have started from 2014 prices, therefore it is not possible to calculate the return of the first month of that first available year. This same situation occurs in the last month available (current), as no data are available for the last day of the month, the return is also not comparable with the rest."
   ]
  },
  {
   "cell_type": "markdown",
   "metadata": {},
   "source": [
    "# Approach 2.1 (update 23-07-2018)\n",
    "\n",
    "Also wrong, it seems to work well but it fails in the same way as \"approach 2\" because it gives us a return at the end that shouldn't be there."
   ]
  },
  {
   "cell_type": "code",
   "execution_count": null,
   "metadata": {},
   "outputs": [],
   "source": [
    "# approach 2.1: \n",
    "approach21 = results_storage.resample(\"M\")\\\n",
    "                            .last()\\\n",
    "                            .set_index(['year', 'month'])\\\n",
    "                            .close\\\n",
    "                            .pct_change(1)\n",
    "plot_this(approach21, bar=True, title='Trailing returns: Approach 2.1',\n",
    "          ylabel='Returns (parts per unit)', txt_ymin=-0.4, bottom_adj=0.25)"
   ]
  },
  {
   "cell_type": "markdown",
   "metadata": {
    "collapsed": true
   },
   "source": [
    "# Approach 3: Now yes, the definitive approach\n",
    "\n",
    "What mean approach3, first trimm prices according to end of month this then with that prices calculate returns. So we are calculating returns between different months and mostly in differents days whichs always are the last bussiness day of the month."
   ]
  },
  {
   "cell_type": "code",
   "execution_count": null,
   "metadata": {},
   "outputs": [],
   "source": [
    "# with \"asfreq\" we decimate the prices, then group by year and month, so we\n",
    "# have all the prices at the end of the working month available in the DataFrame.\n",
    "# Finally we calculate the return of this new series with \"pct_change\".\n",
    "approach3 = results_storage.asfreq('BM')\\\n",
    "                           .set_index(['year', 'month'])\\\n",
    "                           .close\\\n",
    "                           .pct_change()\n",
    "approach3.tail(12)"
   ]
  },
  {
   "cell_type": "code",
   "execution_count": null,
   "metadata": {},
   "outputs": [],
   "source": [
    "plot_this(approach3, bar=True, title='Trailing returns: Approach 3',\n",
    "          ylabel='Returns (parts per unit)', txt_ymin=-0.4, bottom_adj=0.25,\n",
    "          output_file='imgs/fig_rets_approach3.png')"
   ]
  },
  {
   "cell_type": "code",
   "execution_count": null,
   "metadata": {},
   "outputs": [],
   "source": [
    "# Comparing all approaches\n",
    "# ========================\n",
    "all_approaches = pd.concat([approach1, approach2, approach21, approach3], axis=1,\n",
    "                           keys=['approach1', 'approach2', 'approach21', 'approach3'])"
   ]
  },
  {
   "cell_type": "code",
   "execution_count": null,
   "metadata": {},
   "outputs": [],
   "source": [
    "all_approaches.head(12)"
   ]
  },
  {
   "cell_type": "code",
   "execution_count": null,
   "metadata": {},
   "outputs": [],
   "source": [
    "all_approaches.tail(12)"
   ]
  },
  {
   "cell_type": "code",
   "execution_count": null,
   "metadata": {},
   "outputs": [],
   "source": [
    "plot_this(all_approaches, title='Comparing all approaches',\n",
    "          bar=True, ylabel='Returns (parts per unit)', bottom_adj=0.25, figsize=(15,6), txt_ymin=-0.4)"
   ]
  },
  {
   "cell_type": "code",
   "execution_count": null,
   "metadata": {},
   "outputs": [],
   "source": []
  }
 ],
 "metadata": {
  "kernelspec": {
   "name": "python3",
   "display_name": "Python 3.9.5 64-bit ('3.9.5': pyenv)"
  },
  "language_info": {
   "codemirror_mode": {
    "name": "ipython",
    "version": 3
   },
   "file_extension": ".py",
   "mimetype": "text/x-python",
   "name": "python",
   "nbconvert_exporter": "python",
   "pygments_lexer": "ipython3",
   "version": "3.9.5"
  },
  "interpreter": {
   "hash": "1528dc284a26ce12ababf88273cd16844bc4f3fe4b9e005e3deb6c9a6a9388c8"
  }
 },
 "nbformat": 4,
 "nbformat_minor": 1
}