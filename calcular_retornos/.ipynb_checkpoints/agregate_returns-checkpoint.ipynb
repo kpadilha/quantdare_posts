{
 "cells": [
  {
   "cell_type": "code",
   "execution_count": 22,
   "metadata": {
    "collapsed": true
   },
   "outputs": [],
   "source": [
    "# load packages\n",
    "import pandas as pd\n",
    "import numpy as np\n",
    "import pandas_datareader as pdr\n",
    "import seaborn as sns\n",
    "from matplotlib import pyplot as plt\n",
    "# not needed, only to prettify the plots.\n",
    "import matplotlib\n",
    "from IPython.display import set_matplotlib_formats\n",
    "%matplotlib inline"
   ]
  },
  {
   "cell_type": "code",
   "execution_count": 23,
   "metadata": {
    "collapsed": true
   },
   "outputs": [],
   "source": [
    "# prettify the figures\n",
    "plt.style.use(['seaborn-white', 'seaborn-paper'])\n",
    "matplotlib.rc('font', family='Times New Roman', size=15)\n",
    "# set_matplotlib_formats('png', 'png', quality=90)\n",
    "plt.rcParams['savefig.dpi'] = 150\n",
    "plt.rcParams['figure.autolayout'] = False\n",
    "plt.rcParams['figure.figsize'] = 8, 5\n",
    "plt.rcParams['axes.labelsize'] = 10\n",
    "plt.rcParams['axes.titlesize'] = 15\n",
    "plt.rcParams['font.size'] = 12\n",
    "plt.rcParams['lines.linewidth'] = 1.0\n",
    "plt.rcParams['lines.markersize'] = 8\n",
    "plt.rcParams['legend.fontsize'] = 12\n",
    "plt.rcParams['ytick.labelsize'] = 11\n",
    "plt.rcParams['xtick.labelsize'] = 11\n",
    "plt.rcParams['font.family'] = 'Times New Roman'\n",
    "plt.rcParams['font.serif'] = 'cm'\n",
    "plt.rcParams['axes.grid'] = True\n",
    "\n",
    "kw_save = dict(bbox_iches='tight', transparent=True)"
   ]
  },
  {
   "cell_type": "code",
   "execution_count": 24,
   "metadata": {
    "collapsed": true
   },
   "outputs": [],
   "source": [
    "# asset information\n",
    "asset_info = '''\n",
    "Banco do Brasil S.A. (BBAS3.SA)\n",
    "Sao Paolo - Sao Paolo Delayed Price. Currency in BRL.\n",
    "Source: https://finance.yahoo.com/quote/BBAS3.SA\n",
    "'''"
   ]
  },
  {
   "cell_type": "code",
   "execution_count": 25,
   "metadata": {
    "collapsed": true
   },
   "outputs": [],
   "source": [
    "# useful functions\n",
    "# ================\n",
    "def total_return(prices):\n",
    "    \"\"\"Retuns the return between the first and last value of the DataFrame.\n",
    "\n",
    "    Parameters\n",
    "    ----------\n",
    "    prices : pandas.Series or pandas.DataFrame\n",
    "\n",
    "    Returns\n",
    "    -------\n",
    "    total_return : float or pandas.Series\n",
    "        Depending on the input passed returns a float or a pandas.Series.\n",
    "    \"\"\"\n",
    "    return prices.iloc[-1] / prices.iloc[0] - 1\n",
    "\n",
    "\n",
    "def total_return_from_returns(returns):\n",
    "    \"\"\"Retuns the return between the first and last value of the DataFrame.\n",
    "\n",
    "    Parameters\n",
    "    ----------\n",
    "    returns : pandas.Series or pandas.DataFrame\n",
    "\n",
    "    Returns\n",
    "    -------\n",
    "    total_return : float or pandas.Series\n",
    "        Depending on the input passed returns a float or a pandas.Series.\n",
    "    \"\"\"\n",
    "    return (returns + 1).prod() - 1\n",
    "\n",
    "\n",
    "def plot_this(df, title, figsize=None, ylabel='',\n",
    "             bottom_adj=0.25,\n",
    "             txt_ymin=-0.4, bar=False):\n",
    "    if bar:\n",
    "        ax = df.plot.bar(title=title, figsize=figsize)\n",
    "    else:\n",
    "        ax = df.plot(title=title, figsize=figsize)\n",
    "    sns.despine()\n",
    "    plt.ylabel(ylabel)\n",
    "    plt.tight_layout()\n",
    "    plt.text(0, txt_ymin, asset_info, transform=ax.transAxes, fontsize=9)\n",
    "    plt.gcf().subplots_adjust(bottom=bottom_adj)"
   ]
  },
  {
   "cell_type": "code",
   "execution_count": 26,
   "metadata": {
    "collapsed": true
   },
   "outputs": [],
   "source": [
    "# Geting data\n",
    "# ===========\n",
    "today = '20210624'  # to make static this script.\n",
    "tckr = 'BBAS3.SA'  # Banco do Brasil SA\n",
    "# download data\n",
    "data = pdr.get_data_yahoo(tckr, 2014, today)\n",
    "# add frequency needed for some pandas functionalities releated with offsets\n",
    "data = data.asfreq('B')  \n",
    "data.columns = data.columns.map(lambda col: col.lower())"
   ]
  },
  {
   "cell_type": "code",
   "execution_count": 27,
   "metadata": {
    "collapsed": false
   },
   "outputs": [
    {
     "output_type": "execute_result",
     "data": {
      "text/plain": [
       "                 high        low       open      close     volume  adj close\n",
       "Date                                                                        \n",
       "2014-01-02  24.480000  23.950001  24.450001  24.000000  4077900.0  15.680017\n",
       "2014-01-03  24.250000  23.850000  24.020000  24.250000  5094600.0  15.843349\n",
       "2014-01-06  24.049999  23.610001  24.020000  23.889999  3983200.0  15.608152\n",
       "2014-01-07  24.100000  23.420000  23.900000  23.480000  4596200.0  15.340280\n",
       "2014-01-08  23.570000  22.969999  23.500000  23.010000  6737300.0  15.033218"
      ],
      "text/html": "<div>\n<style scoped>\n    .dataframe tbody tr th:only-of-type {\n        vertical-align: middle;\n    }\n\n    .dataframe tbody tr th {\n        vertical-align: top;\n    }\n\n    .dataframe thead th {\n        text-align: right;\n    }\n</style>\n<table border=\"1\" class=\"dataframe\">\n  <thead>\n    <tr style=\"text-align: right;\">\n      <th></th>\n      <th>high</th>\n      <th>low</th>\n      <th>open</th>\n      <th>close</th>\n      <th>volume</th>\n      <th>adj close</th>\n    </tr>\n    <tr>\n      <th>Date</th>\n      <th></th>\n      <th></th>\n      <th></th>\n      <th></th>\n      <th></th>\n      <th></th>\n    </tr>\n  </thead>\n  <tbody>\n    <tr>\n      <th>2014-01-02</th>\n      <td>24.480000</td>\n      <td>23.950001</td>\n      <td>24.450001</td>\n      <td>24.000000</td>\n      <td>4077900.0</td>\n      <td>15.680017</td>\n    </tr>\n    <tr>\n      <th>2014-01-03</th>\n      <td>24.250000</td>\n      <td>23.850000</td>\n      <td>24.020000</td>\n      <td>24.250000</td>\n      <td>5094600.0</td>\n      <td>15.843349</td>\n    </tr>\n    <tr>\n      <th>2014-01-06</th>\n      <td>24.049999</td>\n      <td>23.610001</td>\n      <td>24.020000</td>\n      <td>23.889999</td>\n      <td>3983200.0</td>\n      <td>15.608152</td>\n    </tr>\n    <tr>\n      <th>2014-01-07</th>\n      <td>24.100000</td>\n      <td>23.420000</td>\n      <td>23.900000</td>\n      <td>23.480000</td>\n      <td>4596200.0</td>\n      <td>15.340280</td>\n    </tr>\n    <tr>\n      <th>2014-01-08</th>\n      <td>23.570000</td>\n      <td>22.969999</td>\n      <td>23.500000</td>\n      <td>23.010000</td>\n      <td>6737300.0</td>\n      <td>15.033218</td>\n    </tr>\n  </tbody>\n</table>\n</div>"
     },
     "metadata": {},
     "execution_count": 27
    }
   ],
   "source": [
    "data.head()  # first values"
   ]
  },
  {
   "cell_type": "code",
   "execution_count": 28,
   "metadata": {
    "collapsed": false
   },
   "outputs": [
    {
     "output_type": "execute_result",
     "data": {
      "text/plain": [
       "                 high        low       open      close      volume  adj close\n",
       "Date                                                                         \n",
       "2021-06-18  35.029999  34.240002  34.919998  34.849998  17953600.0  34.849998\n",
       "2021-06-21  34.950001  34.430000  34.759998  34.580002  10056900.0  34.580002\n",
       "2021-06-22  34.720001  33.549999  34.630001  33.849998  18595500.0  33.849998\n",
       "2021-06-23  34.349998  33.700001  33.889999  33.849998  10911200.0  33.849998\n",
       "2021-06-24  34.220001  33.810001  34.150002  33.919998   5923600.0  33.919998"
      ],
      "text/html": "<div>\n<style scoped>\n    .dataframe tbody tr th:only-of-type {\n        vertical-align: middle;\n    }\n\n    .dataframe tbody tr th {\n        vertical-align: top;\n    }\n\n    .dataframe thead th {\n        text-align: right;\n    }\n</style>\n<table border=\"1\" class=\"dataframe\">\n  <thead>\n    <tr style=\"text-align: right;\">\n      <th></th>\n      <th>high</th>\n      <th>low</th>\n      <th>open</th>\n      <th>close</th>\n      <th>volume</th>\n      <th>adj close</th>\n    </tr>\n    <tr>\n      <th>Date</th>\n      <th></th>\n      <th></th>\n      <th></th>\n      <th></th>\n      <th></th>\n      <th></th>\n    </tr>\n  </thead>\n  <tbody>\n    <tr>\n      <th>2021-06-18</th>\n      <td>35.029999</td>\n      <td>34.240002</td>\n      <td>34.919998</td>\n      <td>34.849998</td>\n      <td>17953600.0</td>\n      <td>34.849998</td>\n    </tr>\n    <tr>\n      <th>2021-06-21</th>\n      <td>34.950001</td>\n      <td>34.430000</td>\n      <td>34.759998</td>\n      <td>34.580002</td>\n      <td>10056900.0</td>\n      <td>34.580002</td>\n    </tr>\n    <tr>\n      <th>2021-06-22</th>\n      <td>34.720001</td>\n      <td>33.549999</td>\n      <td>34.630001</td>\n      <td>33.849998</td>\n      <td>18595500.0</td>\n      <td>33.849998</td>\n    </tr>\n    <tr>\n      <th>2021-06-23</th>\n      <td>34.349998</td>\n      <td>33.700001</td>\n      <td>33.889999</td>\n      <td>33.849998</td>\n      <td>10911200.0</td>\n      <td>33.849998</td>\n    </tr>\n    <tr>\n      <th>2021-06-24</th>\n      <td>34.220001</td>\n      <td>33.810001</td>\n      <td>34.150002</td>\n      <td>33.919998</td>\n      <td>5923600.0</td>\n      <td>33.919998</td>\n    </tr>\n  </tbody>\n</table>\n</div>"
     },
     "metadata": {},
     "execution_count": 28
    }
   ],
   "source": [
    "data.tail()  # last values"
   ]
  },
  {
   "cell_type": "code",
   "execution_count": 29,
   "metadata": {
    "collapsed": false
   },
   "outputs": [
    {
     "output_type": "execute_result",
     "data": {
      "text/plain": [
       "high         98\n",
       "low          98\n",
       "open         98\n",
       "close        98\n",
       "volume       98\n",
       "adj close    98\n",
       "dtype: int64"
      ]
     },
     "metadata": {},
     "execution_count": 29
    }
   ],
   "source": [
    "# what about NaNs\n",
    "data.isnull().sum()"
   ]
  },
  {
   "cell_type": "code",
   "execution_count": 30,
   "metadata": {
    "collapsed": true
   },
   "outputs": [],
   "source": [
    "data.ffill(inplace=True)  # to avoid problems with NaNs."
   ]
  },
  {
   "cell_type": "code",
   "execution_count": 31,
   "metadata": {
    "collapsed": false
   },
   "outputs": [
    {
     "output_type": "stream",
     "name": "stderr",
     "text": [
      "/Users/krishna/.pyenv/versions/3.9.5/lib/python3.9/site-packages/IPython/core/pylabtools.py:132: MatplotlibDeprecationWarning: print_figure() got unexpected keyword argument \"quality\" which is no longer supported as of 3.3 and will become an error two minor releases later\n  fig.canvas.print_figure(bytes_io, **kw)\n"
     ]
    },
    {
     "output_type": "display_data",
     "data": {
      "text/plain": "<Figure size 576x360 with 1 Axes>",
      "image/png": "[encoded data removed]"
     },
     "metadata": {}
    }
   ],
   "source": [
    "# using close prices\n",
    "prices = data.close.copy()\n",
    "# we convert to DataFrame to make easy store more series.\n",
    "results_storage = prices.to_frame().copy()\n",
    "# plotting\n",
    "plot_this(prices, title='Prices of %s' % tckr, ylabel='Prices in BRL', txt_ymin=-0.2, bottom_adj=0.15)"
   ]
  },
  {
   "cell_type": "code",
   "execution_count": 11,
   "metadata": {
    "collapsed": false
   },
   "outputs": [
    {
     "data": {
      "text/html": [
       "<div>\n",
       "<style>\n",
       "    .dataframe thead tr:only-child th {\n",
       "        text-align: right;\n",
       "    }\n",
       "\n",
       "    .dataframe thead th {\n",
       "        text-align: left;\n",
       "    }\n",
       "\n",
       "    .dataframe tbody tr th {\n",
       "        vertical-align: top;\n",
       "    }\n",
       "</style>\n",
       "<table border=\"1\" class=\"dataframe\">\n",
       "  <thead>\n",
       "    <tr style=\"text-align: right;\">\n",
       "      <th></th>\n",
       "      <th>close</th>\n",
       "      <th>year</th>\n",
       "      <th>month</th>\n",
       "      <th>day</th>\n",
       "      <th>week_day</th>\n",
       "      <th>week_day_name</th>\n",
       "    </tr>\n",
       "    <tr>\n",
       "      <th>Date</th>\n",
       "      <th></th>\n",
       "      <th></th>\n",
       "      <th></th>\n",
       "      <th></th>\n",
       "      <th></th>\n",
       "      <th></th>\n",
       "    </tr>\n",
       "  </thead>\n",
       "  <tbody>\n",
       "    <tr>\n",
       "      <th>2017-09-13</th>\n",
       "      <td>33.590000</td>\n",
       "      <td>2017</td>\n",
       "      <td>9</td>\n",
       "      <td>13</td>\n",
       "      <td>2</td>\n",
       "      <td>Wednesday</td>\n",
       "    </tr>\n",
       "    <tr>\n",
       "      <th>2017-09-14</th>\n",
       "      <td>33.619999</td>\n",
       "      <td>2017</td>\n",
       "      <td>9</td>\n",
       "      <td>14</td>\n",
       "      <td>3</td>\n",
       "      <td>Thursday</td>\n",
       "    </tr>\n",
       "    <tr>\n",
       "      <th>2017-09-15</th>\n",
       "      <td>34.110001</td>\n",
       "      <td>2017</td>\n",
       "      <td>9</td>\n",
       "      <td>15</td>\n",
       "      <td>4</td>\n",
       "      <td>Friday</td>\n",
       "    </tr>\n",
       "    <tr>\n",
       "      <th>2017-09-18</th>\n",
       "      <td>34.580002</td>\n",
       "      <td>2017</td>\n",
       "      <td>9</td>\n",
       "      <td>18</td>\n",
       "      <td>0</td>\n",
       "      <td>Monday</td>\n",
       "    </tr>\n",
       "    <tr>\n",
       "      <th>2017-09-19</th>\n",
       "      <td>34.540001</td>\n",
       "      <td>2017</td>\n",
       "      <td>9</td>\n",
       "      <td>19</td>\n",
       "      <td>1</td>\n",
       "      <td>Tuesday</td>\n",
       "    </tr>\n",
       "    <tr>\n",
       "      <th>2017-09-20</th>\n",
       "      <td>34.759998</td>\n",
       "      <td>2017</td>\n",
       "      <td>9</td>\n",
       "      <td>20</td>\n",
       "      <td>2</td>\n",
       "      <td>Wednesday</td>\n",
       "    </tr>\n",
       "    <tr>\n",
       "      <th>2017-09-21</th>\n",
       "      <td>35.520000</td>\n",
       "      <td>2017</td>\n",
       "      <td>9</td>\n",
       "      <td>21</td>\n",
       "      <td>3</td>\n",
       "      <td>Thursday</td>\n",
       "    </tr>\n",
       "    <tr>\n",
       "      <th>2017-09-22</th>\n",
       "      <td>35.299999</td>\n",
       "      <td>2017</td>\n",
       "      <td>9</td>\n",
       "      <td>22</td>\n",
       "      <td>4</td>\n",
       "      <td>Friday</td>\n",
       "    </tr>\n",
       "    <tr>\n",
       "      <th>2017-09-25</th>\n",
       "      <td>34.799999</td>\n",
       "      <td>2017</td>\n",
       "      <td>9</td>\n",
       "      <td>25</td>\n",
       "      <td>0</td>\n",
       "      <td>Monday</td>\n",
       "    </tr>\n",
       "    <tr>\n",
       "      <th>2017-09-26</th>\n",
       "      <td>35.000000</td>\n",
       "      <td>2017</td>\n",
       "      <td>9</td>\n",
       "      <td>26</td>\n",
       "      <td>1</td>\n",
       "      <td>Tuesday</td>\n",
       "    </tr>\n",
       "  </tbody>\n",
       "</table>\n",
       "</div>"
      ],
      "text/plain": [
       "                close  year  month  day  week_day week_day_name\n",
       "Date                                                           \n",
       "2017-09-13  33.590000  2017      9   13         2     Wednesday\n",
       "2017-09-14  33.619999  2017      9   14         3      Thursday\n",
       "2017-09-15  34.110001  2017      9   15         4        Friday\n",
       "2017-09-18  34.580002  2017      9   18         0        Monday\n",
       "2017-09-19  34.540001  2017      9   19         1       Tuesday\n",
       "2017-09-20  34.759998  2017      9   20         2     Wednesday\n",
       "2017-09-21  35.520000  2017      9   21         3      Thursday\n",
       "2017-09-22  35.299999  2017      9   22         4        Friday\n",
       "2017-09-25  34.799999  2017      9   25         0        Monday\n",
       "2017-09-26  35.000000  2017      9   26         1       Tuesday"
      ]
     },
     "execution_count": 11,
     "metadata": {},
     "output_type": "execute_result"
    }
   ],
   "source": [
    "# extract some date information\n",
    "results_storage['year'] = prices.index.year\n",
    "results_storage['month'] = prices.index.month\n",
    "results_storage['day'] = prices.index.day\n",
    "results_storage['week_day'] = prices.index.dayofweek\n",
    "results_storage['week_day_name'] = prices.index.strftime('%A')\n",
    "results_storage.tail(10)"
   ]
  },
  {
   "cell_type": "markdown",
   "metadata": {},
   "source": [
    "# Trailing Returns"
   ]
  },
  {
   "cell_type": "markdown",
   "metadata": {},
   "source": [
    "# Approach 1: starting from prices"
   ]
  },
  {
   "cell_type": "code",
   "execution_count": 12,
   "metadata": {
    "collapsed": false
   },
   "outputs": [
    {
     "data": {
      "text/plain": [
       "year  month\n",
       "2016  10       0.254927\n",
       "      11       0.020043\n",
       "      12       0.055222\n",
       "2017  1        0.129630\n",
       "      2        0.058861\n",
       "      3        0.005060\n",
       "      4       -0.030115\n",
       "      5       -0.137291\n",
       "      6       -0.044223\n",
       "      7        0.056312\n",
       "      8        0.047782\n",
       "      9        0.097523\n",
       "Name: close, dtype: float64"
      ]
     },
     "execution_count": 12,
     "metadata": {},
     "output_type": "execute_result"
    }
   ],
   "source": [
    "approach1 = results_storage.groupby(['year', 'month'], )['close'].apply(total_return)\n",
    "approach1.tail(12)"
   ]
  },
  {
   "cell_type": "code",
   "execution_count": 13,
   "metadata": {
    "collapsed": false
   },
   "outputs": [
    {
     "data": {
      "image/png": "[encoded data removed]",
      "text/plain": [
       "<matplotlib.figure.Figure at 0xa9d29e8>"
      ]
     },
     "metadata": {},
     "output_type": "display_data"
    }
   ],
   "source": [
    "# ploting\n",
    "# -------\n",
    "plot_this(approach1, bar=True, title='Trailing returns: Approach 1',\n",
    "          ylabel='Returns (parts per unit)', txt_ymin=-0.4, bottom_adj=0.25)"
   ]
  },
  {
   "cell_type": "markdown",
   "metadata": {
    "collapsed": true
   },
   "source": [
    "> __Nota bene, What means approach 1:__\n",
    "Means that we are selecting all available prices INSIDE a month and then we calculate the total return with that prices."
   ]
  },
  {
   "cell_type": "code",
   "execution_count": 14,
   "metadata": {
    "collapsed": false
   },
   "outputs": [
    {
     "data": {
      "text/html": [
       "<div>\n",
       "<style>\n",
       "    .dataframe thead tr:only-child th {\n",
       "        text-align: right;\n",
       "    }\n",
       "\n",
       "    .dataframe thead th {\n",
       "        text-align: left;\n",
       "    }\n",
       "\n",
       "    .dataframe tbody tr th {\n",
       "        vertical-align: top;\n",
       "    }\n",
       "</style>\n",
       "<table border=\"1\" class=\"dataframe\">\n",
       "  <thead>\n",
       "    <tr style=\"text-align: right;\">\n",
       "      <th></th>\n",
       "      <th>close</th>\n",
       "      <th>year</th>\n",
       "      <th>month</th>\n",
       "      <th>day</th>\n",
       "      <th>week_day</th>\n",
       "      <th>week_day_name</th>\n",
       "    </tr>\n",
       "    <tr>\n",
       "      <th>Date</th>\n",
       "      <th></th>\n",
       "      <th></th>\n",
       "      <th></th>\n",
       "      <th></th>\n",
       "      <th></th>\n",
       "      <th></th>\n",
       "    </tr>\n",
       "  </thead>\n",
       "  <tbody>\n",
       "    <tr>\n",
       "      <th>2017-07-25</th>\n",
       "      <td>29.559999</td>\n",
       "      <td>2017</td>\n",
       "      <td>7</td>\n",
       "      <td>25</td>\n",
       "      <td>1</td>\n",
       "      <td>Tuesday</td>\n",
       "    </tr>\n",
       "    <tr>\n",
       "      <th>2017-07-26</th>\n",
       "      <td>28.840000</td>\n",
       "      <td>2017</td>\n",
       "      <td>7</td>\n",
       "      <td>26</td>\n",
       "      <td>2</td>\n",
       "      <td>Wednesday</td>\n",
       "    </tr>\n",
       "    <tr>\n",
       "      <th>2017-07-27</th>\n",
       "      <td>28.590000</td>\n",
       "      <td>2017</td>\n",
       "      <td>7</td>\n",
       "      <td>27</td>\n",
       "      <td>3</td>\n",
       "      <td>Thursday</td>\n",
       "    </tr>\n",
       "    <tr>\n",
       "      <th>2017-07-28</th>\n",
       "      <td>28.559999</td>\n",
       "      <td>2017</td>\n",
       "      <td>7</td>\n",
       "      <td>28</td>\n",
       "      <td>4</td>\n",
       "      <td>Friday</td>\n",
       "    </tr>\n",
       "    <tr>\n",
       "      <th>2017-07-31</th>\n",
       "      <td>28.700001</td>\n",
       "      <td>2017</td>\n",
       "      <td>7</td>\n",
       "      <td>31</td>\n",
       "      <td>0</td>\n",
       "      <td>Monday</td>\n",
       "    </tr>\n",
       "  </tbody>\n",
       "</table>\n",
       "</div>"
      ],
      "text/plain": [
       "                close  year  month  day  week_day week_day_name\n",
       "Date                                                           \n",
       "2017-07-25  29.559999  2017      7   25         1       Tuesday\n",
       "2017-07-26  28.840000  2017      7   26         2     Wednesday\n",
       "2017-07-27  28.590000  2017      7   27         3      Thursday\n",
       "2017-07-28  28.559999  2017      7   28         4        Friday\n",
       "2017-07-31  28.700001  2017      7   31         0        Monday"
      ]
     },
     "execution_count": 14,
     "metadata": {},
     "output_type": "execute_result"
    }
   ],
   "source": [
    "select_idx = (2017, 7)\n",
    "idx_approach1 = results_storage.groupby(['year', 'month'])['close'].groups[select_idx]\n",
    "last_group = results_storage.loc[idx_approach1]\n",
    "last_group.head()\n",
    "last_group.tail()"
   ]
  },
  {
   "cell_type": "code",
   "execution_count": 15,
   "metadata": {
    "collapsed": false
   },
   "outputs": [
    {
     "data": {
      "text/plain": [
       "(0.056312145748987907, 0.056312145748987907)"
      ]
     },
     "execution_count": 15,
     "metadata": {},
     "output_type": "execute_result"
    }
   ],
   "source": [
    "# example of the calculation\n",
    "total_return(last_group.close), approach1.loc[select_idx]"
   ]
  },
  {
   "cell_type": "markdown",
   "metadata": {},
   "source": [
    "# Approach 2: starting from daily returns"
   ]
  },
  {
   "cell_type": "code",
   "execution_count": 16,
   "metadata": {
    "collapsed": false
   },
   "outputs": [
    {
     "data": {
      "text/plain": [
       "Date  Date\n",
       "2016  10      0.284649\n",
       "      11     -0.026972\n",
       "      12     -0.014386\n",
       "2017  1       0.107512\n",
       "      2       0.063966\n",
       "      3       0.020242\n",
       "      4      -0.027243\n",
       "      5      -0.137291\n",
       "      6      -0.054340\n",
       "      7       0.070896\n",
       "      8       0.069686\n",
       "      9       0.140065\n",
       "Name: close, dtype: float64"
      ]
     },
     "execution_count": 16,
     "metadata": {},
     "output_type": "execute_result"
    }
   ],
   "source": [
    "r = prices.pct_change()\n",
    "approach2 = r.groupby((r.index.year, r.index.month))\\\n",
    "             .apply(total_return_from_returns)\n",
    "\n",
    "approach2.tail(12)"
   ]
  },
  {
   "cell_type": "code",
   "execution_count": 17,
   "metadata": {
    "collapsed": false
   },
   "outputs": [
    {
     "data": {
      "image/png": "[encoded data removed]",
      "text/plain": [
       "<matplotlib.figure.Figure at 0xa9c2630>"
      ]
     },
     "metadata": {},
     "output_type": "display_data"
    }
   ],
   "source": [
    "plot_this(approach2, bar=True, title='Trailing returns: Approach 2',\n",
    "          ylabel='Returns (parts per unit)', txt_ymin=-0.4, bottom_adj=0.25)"
   ]
  },
  {
   "cell_type": "markdown",
   "metadata": {
    "collapsed": true
   },
   "source": [
    "However, this approximation is almost correct since we have started from 2014 prices, therefore it is not possible to calculate the return of the first month of that first available year. This same situation occurs in the last month available (current), as no data are available for the last day of the month, the return is also not comparable with the rest."
   ]
  },
  {
   "cell_type": "markdown",
   "metadata": {
    "collapsed": true
   },
   "source": [
    "# Approach 3: Now yes, the definitive approach\n",
    "\n",
    "What mean approach3, first trimm prices according to end of month this then with that prices calculate returns. So we are calculating returns between different months and mostly in differents days whichs always are the last bussiness day of the month."
   ]
  },
  {
   "cell_type": "code",
   "execution_count": 18,
   "metadata": {
    "collapsed": false
   },
   "outputs": [
    {
     "data": {
      "text/plain": [
       "year  month\n",
       "2016  9       -0.017665\n",
       "      10       0.284649\n",
       "      11      -0.026972\n",
       "      12      -0.014386\n",
       "2017  1        0.107512\n",
       "      2        0.063966\n",
       "      3        0.020242\n",
       "      4       -0.027243\n",
       "      5       -0.137291\n",
       "      6       -0.054340\n",
       "      7        0.070896\n",
       "      8        0.069686\n",
       "Name: close, dtype: float64"
      ]
     },
     "execution_count": 18,
     "metadata": {},
     "output_type": "execute_result"
    }
   ],
   "source": [
    "# with \"asfreq\" we decimate the prices, then group by year and month, so we\n",
    "# have all the prices at the end of the working month available in the DataFrame.\n",
    "# Finally we calculate the return of this new series with \"pct_change\".\n",
    "approach3 = results_storage.asfreq('BM')\\\n",
    "                           .set_index(['year', 'month'])\\\n",
    "                           .close\\\n",
    "                           .pct_change()\n",
    "approach3.tail(12)"
   ]
  },
  {
   "cell_type": "code",
   "execution_count": 19,
   "metadata": {
    "collapsed": false
   },
   "outputs": [
    {
     "data": {
      "image/png": "[encoded data removed]",
      "text/plain": [
       "<matplotlib.figure.Figure at 0xc18d518>"
      ]
     },
     "metadata": {},
     "output_type": "display_data"
    }
   ],
   "source": [
    "plot_this(approach3, bar=True, title='Trailing returns: Approach 3',\n",
    "          ylabel='Returns (parts per unit)', txt_ymin=-0.4, bottom_adj=0.25)"
   ]
  },
  {
   "cell_type": "code",
   "execution_count": 20,
   "metadata": {
    "collapsed": true
   },
   "outputs": [],
   "source": [
    "# Comparing all approaches\n",
    "# ========================\n",
    "all_approaches = pd.concat([approach1, approach2, approach3], axis=1,\n",
    "                           keys=['approach1', 'approach2', 'approach3'])"
   ]
  },
  {
   "cell_type": "code",
   "execution_count": 21,
   "metadata": {
    "collapsed": false
   },
   "outputs": [
    {
     "data": {
      "text/html": [
       "<div>\n",
       "<style>\n",
       "    .dataframe thead tr:only-child th {\n",
       "        text-align: right;\n",
       "    }\n",
       "\n",
       "    .dataframe thead th {\n",
       "        text-align: left;\n",
       "    }\n",
       "\n",
       "    .dataframe tbody tr th {\n",
       "        vertical-align: top;\n",
       "    }\n",
       "</style>\n",
       "<table border=\"1\" class=\"dataframe\">\n",
       "  <thead>\n",
       "    <tr style=\"text-align: right;\">\n",
       "      <th></th>\n",
       "      <th></th>\n",
       "      <th>approach1</th>\n",
       "      <th>approach2</th>\n",
       "      <th>approach3</th>\n",
       "    </tr>\n",
       "    <tr>\n",
       "      <th>year</th>\n",
       "      <th>month</th>\n",
       "      <th></th>\n",
       "      <th></th>\n",
       "      <th></th>\n",
       "    </tr>\n",
       "  </thead>\n",
       "  <tbody>\n",
       "    <tr>\n",
       "      <th rowspan=\"12\" valign=\"top\">2014</th>\n",
       "      <th>1</th>\n",
       "      <td>-0.129583</td>\n",
       "      <td>-0.129583</td>\n",
       "      <td>NaN</td>\n",
       "    </tr>\n",
       "    <tr>\n",
       "      <th>2</th>\n",
       "      <td>0.028827</td>\n",
       "      <td>-0.009095</td>\n",
       "      <td>-0.009095</td>\n",
       "    </tr>\n",
       "    <tr>\n",
       "      <th>3</th>\n",
       "      <td>0.101449</td>\n",
       "      <td>0.101449</td>\n",
       "      <td>0.101449</td>\n",
       "    </tr>\n",
       "    <tr>\n",
       "      <th>4</th>\n",
       "      <td>0.026778</td>\n",
       "      <td>0.025877</td>\n",
       "      <td>0.025877</td>\n",
       "    </tr>\n",
       "    <tr>\n",
       "      <th>5</th>\n",
       "      <td>-0.021377</td>\n",
       "      <td>-0.021377</td>\n",
       "      <td>-0.021377</td>\n",
       "    </tr>\n",
       "    <tr>\n",
       "      <th>6</th>\n",
       "      <td>0.087527</td>\n",
       "      <td>0.085627</td>\n",
       "      <td>0.085627</td>\n",
       "    </tr>\n",
       "    <tr>\n",
       "      <th>7</th>\n",
       "      <td>0.111467</td>\n",
       "      <td>0.115493</td>\n",
       "      <td>0.115493</td>\n",
       "    </tr>\n",
       "    <tr>\n",
       "      <th>8</th>\n",
       "      <td>0.291743</td>\n",
       "      <td>0.269841</td>\n",
       "      <td>0.269841</td>\n",
       "    </tr>\n",
       "    <tr>\n",
       "      <th>9</th>\n",
       "      <td>-0.285916</td>\n",
       "      <td>-0.281250</td>\n",
       "      <td>-0.281250</td>\n",
       "    </tr>\n",
       "    <tr>\n",
       "      <th>10</th>\n",
       "      <td>0.078988</td>\n",
       "      <td>0.096047</td>\n",
       "      <td>0.096047</td>\n",
       "    </tr>\n",
       "    <tr>\n",
       "      <th>11</th>\n",
       "      <td>0.085130</td>\n",
       "      <td>0.071042</td>\n",
       "      <td>0.071042</td>\n",
       "    </tr>\n",
       "    <tr>\n",
       "      <th>12</th>\n",
       "      <td>-0.136578</td>\n",
       "      <td>-0.199663</td>\n",
       "      <td>-0.199663</td>\n",
       "    </tr>\n",
       "  </tbody>\n",
       "</table>\n",
       "</div>"
      ],
      "text/plain": [
       "            approach1  approach2  approach3\n",
       "year month                                 \n",
       "2014 1      -0.129583  -0.129583        NaN\n",
       "     2       0.028827  -0.009095  -0.009095\n",
       "     3       0.101449   0.101449   0.101449\n",
       "     4       0.026778   0.025877   0.025877\n",
       "     5      -0.021377  -0.021377  -0.021377\n",
       "     6       0.087527   0.085627   0.085627\n",
       "     7       0.111467   0.115493   0.115493\n",
       "     8       0.291743   0.269841   0.269841\n",
       "     9      -0.285916  -0.281250  -0.281250\n",
       "     10      0.078988   0.096047   0.096047\n",
       "     11      0.085130   0.071042   0.071042\n",
       "     12     -0.136578  -0.199663  -0.199663"
      ]
     },
     "execution_count": 21,
     "metadata": {},
     "output_type": "execute_result"
    }
   ],
   "source": [
    "all_approaches.head(12)"
   ]
  },
  {
   "cell_type": "code",
   "execution_count": 22,
   "metadata": {
    "collapsed": false
   },
   "outputs": [
    {
     "data": {
      "text/html": [
       "<div>\n",
       "<style>\n",
       "    .dataframe thead tr:only-child th {\n",
       "        text-align: right;\n",
       "    }\n",
       "\n",
       "    .dataframe thead th {\n",
       "        text-align: left;\n",
       "    }\n",
       "\n",
       "    .dataframe tbody tr th {\n",
       "        vertical-align: top;\n",
       "    }\n",
       "</style>\n",
       "<table border=\"1\" class=\"dataframe\">\n",
       "  <thead>\n",
       "    <tr style=\"text-align: right;\">\n",
       "      <th></th>\n",
       "      <th></th>\n",
       "      <th>approach1</th>\n",
       "      <th>approach2</th>\n",
       "      <th>approach3</th>\n",
       "    </tr>\n",
       "    <tr>\n",
       "      <th>year</th>\n",
       "      <th>month</th>\n",
       "      <th></th>\n",
       "      <th></th>\n",
       "      <th></th>\n",
       "    </tr>\n",
       "  </thead>\n",
       "  <tbody>\n",
       "    <tr>\n",
       "      <th rowspan=\"3\" valign=\"top\">2016</th>\n",
       "      <th>10</th>\n",
       "      <td>0.254927</td>\n",
       "      <td>0.284649</td>\n",
       "      <td>0.284649</td>\n",
       "    </tr>\n",
       "    <tr>\n",
       "      <th>11</th>\n",
       "      <td>0.020043</td>\n",
       "      <td>-0.026972</td>\n",
       "      <td>-0.026972</td>\n",
       "    </tr>\n",
       "    <tr>\n",
       "      <th>12</th>\n",
       "      <td>0.055222</td>\n",
       "      <td>-0.014386</td>\n",
       "      <td>-0.014386</td>\n",
       "    </tr>\n",
       "    <tr>\n",
       "      <th rowspan=\"9\" valign=\"top\">2017</th>\n",
       "      <th>1</th>\n",
       "      <td>0.129630</td>\n",
       "      <td>0.107512</td>\n",
       "      <td>0.107512</td>\n",
       "    </tr>\n",
       "    <tr>\n",
       "      <th>2</th>\n",
       "      <td>0.058861</td>\n",
       "      <td>0.063966</td>\n",
       "      <td>0.063966</td>\n",
       "    </tr>\n",
       "    <tr>\n",
       "      <th>3</th>\n",
       "      <td>0.005060</td>\n",
       "      <td>0.020242</td>\n",
       "      <td>0.020242</td>\n",
       "    </tr>\n",
       "    <tr>\n",
       "      <th>4</th>\n",
       "      <td>-0.030115</td>\n",
       "      <td>-0.027243</td>\n",
       "      <td>-0.027243</td>\n",
       "    </tr>\n",
       "    <tr>\n",
       "      <th>5</th>\n",
       "      <td>-0.137291</td>\n",
       "      <td>-0.137291</td>\n",
       "      <td>-0.137291</td>\n",
       "    </tr>\n",
       "    <tr>\n",
       "      <th>6</th>\n",
       "      <td>-0.044223</td>\n",
       "      <td>-0.054340</td>\n",
       "      <td>-0.054340</td>\n",
       "    </tr>\n",
       "    <tr>\n",
       "      <th>7</th>\n",
       "      <td>0.056312</td>\n",
       "      <td>0.070896</td>\n",
       "      <td>0.070896</td>\n",
       "    </tr>\n",
       "    <tr>\n",
       "      <th>8</th>\n",
       "      <td>0.047782</td>\n",
       "      <td>0.069686</td>\n",
       "      <td>0.069686</td>\n",
       "    </tr>\n",
       "    <tr>\n",
       "      <th>9</th>\n",
       "      <td>0.097523</td>\n",
       "      <td>0.140065</td>\n",
       "      <td>NaN</td>\n",
       "    </tr>\n",
       "  </tbody>\n",
       "</table>\n",
       "</div>"
      ],
      "text/plain": [
       "            approach1  approach2  approach3\n",
       "year month                                 \n",
       "2016 10      0.254927   0.284649   0.284649\n",
       "     11      0.020043  -0.026972  -0.026972\n",
       "     12      0.055222  -0.014386  -0.014386\n",
       "2017 1       0.129630   0.107512   0.107512\n",
       "     2       0.058861   0.063966   0.063966\n",
       "     3       0.005060   0.020242   0.020242\n",
       "     4      -0.030115  -0.027243  -0.027243\n",
       "     5      -0.137291  -0.137291  -0.137291\n",
       "     6      -0.044223  -0.054340  -0.054340\n",
       "     7       0.056312   0.070896   0.070896\n",
       "     8       0.047782   0.069686   0.069686\n",
       "     9       0.097523   0.140065        NaN"
      ]
     },
     "execution_count": 22,
     "metadata": {},
     "output_type": "execute_result"
    }
   ],
   "source": [
    "all_approaches.tail(12)"
   ]
  },
  {
   "cell_type": "code",
   "execution_count": 23,
   "metadata": {
    "collapsed": false
   },
   "outputs": [
    {
     "data": {
      "image/png": "[encoded data removed]",
      "text/plain": [
       "<matplotlib.figure.Figure at 0xc168c88>"
      ]
     },
     "metadata": {},
     "output_type": "display_data"
    }
   ],
   "source": [
    "plot_this(all_approaches, title='Comparing all approaches',\n",
    "          bar=True,\n",
    "          ylabel='Returns (parts per unit)', bottom_adj=0.25, figsize=(10,6),\n",
    "          txt_ymin=-0.4)"
   ]
  }
 ],
 "metadata": {
  "kernelspec": {
   "name": "python3",
   "display_name": "Python 3.9.5 64-bit ('3.9.5': pyenv)"
  },
  "language_info": {
   "codemirror_mode": {
    "name": "ipython",
    "version": 3
   },
   "file_extension": ".py",
   "mimetype": "text/x-python",
   "name": "python",
   "nbconvert_exporter": "python",
   "pygments_lexer": "ipython3",
   "version": "3.9.5"
  },
  "interpreter": {
   "hash": "1528dc284a26ce12ababf88273cd16844bc4f3fe4b9e005e3deb6c9a6a9388c8"
  }
 },
 "nbformat": 4,
 "nbformat_minor": 0
}